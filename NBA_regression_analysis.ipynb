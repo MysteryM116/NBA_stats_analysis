{
 "cells": [
  {
   "cell_type": "markdown",
   "metadata": {},
   "source": [
    "# Regression Analysis"
   ]
  },
  {
   "cell_type": "markdown",
   "metadata": {},
   "source": [
    "Created by Ying Ma. 3/14/2018"
   ]
  },
  {
   "cell_type": "markdown",
   "metadata": {},
   "source": [
    "Load all game stats, and use regression analysis to get coefficients for each parameter."
   ]
  },
  {
   "cell_type": "code",
   "execution_count": 203,
   "metadata": {},
   "outputs": [],
   "source": [
    "import pandas as pd\n",
    "import numpy as np\n",
    "import urllib3\n",
    "from bs4 import BeautifulSoup\n",
    "import time\n",
    "from datetime import date, datetime\n",
    "from selenium import webdriver\n",
    "import copy\n",
    "from dateutil import relativedelta\n",
    "import matplotlib.pyplot as plt\n",
    "from scipy.stats import ttest_ind, ttest_rel, ttest_1samp, levene, bartlett\n",
    "from glob import glob\n",
    "import os\n",
    "from sklearn.linear_model import Lasso, Lars, lars_path, LinearRegression\n",
    "from sklearn.model_selection import GridSearchCV"
   ]
  },
  {
   "cell_type": "code",
   "execution_count": 204,
   "metadata": {
    "collapsed": true
   },
   "outputs": [],
   "source": [
    "pathname = 'C:/Users/mysel/Dropbox/datascience bootcamp/NBA/csv/'\n",
    "filenames =  glob(pathname + '*.csv')"
   ]
  },
  {
   "cell_type": "code",
   "execution_count": 205,
   "metadata": {},
   "outputs": [],
   "source": [
    "\n",
    "df_sum=pd.DataFrame()\n",
    "for i in range(0,len(filenames)):\n",
    "        os.chdir(pathname)\n",
    "        df = pd.read_csv(filenames[i],encoding = 'ISO-8859-1')  \n",
    "        df_sum = df_sum.append(df, ignore_index= True)\n",
    "df_sum.rename(columns={'\\xa0.1':'Win'}, inplace=True)     "
   ]
  },
  {
   "cell_type": "code",
   "execution_count": 206,
   "metadata": {},
   "outputs": [],
   "source": [
    "# numerify\n",
    "df_sum['Win'] = [int(df_sum['Win'][i].split()[1][1:-1]) for i in range(len(df_sum['Win']))]"
   ]
  },
  {
   "cell_type": "code",
   "execution_count": 207,
   "metadata": {},
   "outputs": [
    {
     "data": {
      "text/plain": [
       "Index(['Unnamed: 0', 'Name', 'Event', 'ED', 'Pre/Post', 'Rk', 'Date', 'Offset',\n",
       "       'Tm', ' ', 'Opp', 'Win', 'GS', 'MP', 'FG', 'FGA', 'FG%', '3P', '3PA',\n",
       "       '3P%', 'FT', 'FTA', 'FT%', 'ORB', 'DRB', 'TRB', 'AST', 'STL', 'BLK',\n",
       "       'TOV', 'PF', 'PTS', 'GmSc', '+/-', 'ORtg', 'DRtg', 'OR_Team',\n",
       "       'DR_Team'],\n",
       "      dtype='object')"
      ]
     },
     "execution_count": 207,
     "metadata": {},
     "output_type": "execute_result"
    }
   ],
   "source": [
    "df_sum.columns"
   ]
  },
  {
   "cell_type": "code",
   "execution_count": 224,
   "metadata": {},
   "outputs": [
    {
     "name": "stderr",
     "output_type": "stream",
     "text": [
      "C:\\Users\\mysel\\Anaconda3\\lib\\site-packages\\sklearn\\model_selection\\_validation.py:458: UserWarning: With alpha=0, this algorithm does not converge well. You are advised to use the LinearRegression estimator\n",
      "  estimator.fit(X_train, y_train, **fit_params)\n",
      "C:\\Users\\mysel\\Anaconda3\\lib\\site-packages\\sklearn\\linear_model\\coordinate_descent.py:477: UserWarning: Coordinate descent with no regularization may lead to unexpected results and is discouraged.\n",
      "  positive)\n",
      "C:\\Users\\mysel\\Anaconda3\\lib\\site-packages\\sklearn\\linear_model\\coordinate_descent.py:491: ConvergenceWarning: Objective did not converge. You might want to increase the number of iterations. Fitting data with very small alpha may cause precision problems.\n",
      "  ConvergenceWarning)\n",
      "C:\\Users\\mysel\\Anaconda3\\lib\\site-packages\\sklearn\\model_selection\\_validation.py:458: UserWarning: With alpha=0, this algorithm does not converge well. You are advised to use the LinearRegression estimator\n",
      "  estimator.fit(X_train, y_train, **fit_params)\n",
      "C:\\Users\\mysel\\Anaconda3\\lib\\site-packages\\sklearn\\linear_model\\coordinate_descent.py:477: UserWarning: Coordinate descent with no regularization may lead to unexpected results and is discouraged.\n",
      "  positive)\n",
      "C:\\Users\\mysel\\Anaconda3\\lib\\site-packages\\sklearn\\linear_model\\coordinate_descent.py:491: ConvergenceWarning: Objective did not converge. You might want to increase the number of iterations. Fitting data with very small alpha may cause precision problems.\n",
      "  ConvergenceWarning)\n",
      "C:\\Users\\mysel\\Anaconda3\\lib\\site-packages\\sklearn\\model_selection\\_validation.py:458: UserWarning: With alpha=0, this algorithm does not converge well. You are advised to use the LinearRegression estimator\n",
      "  estimator.fit(X_train, y_train, **fit_params)\n",
      "C:\\Users\\mysel\\Anaconda3\\lib\\site-packages\\sklearn\\linear_model\\coordinate_descent.py:477: UserWarning: Coordinate descent with no regularization may lead to unexpected results and is discouraged.\n",
      "  positive)\n",
      "C:\\Users\\mysel\\Anaconda3\\lib\\site-packages\\sklearn\\linear_model\\coordinate_descent.py:491: ConvergenceWarning: Objective did not converge. You might want to increase the number of iterations. Fitting data with very small alpha may cause precision problems.\n",
      "  ConvergenceWarning)\n"
     ]
    },
    {
     "data": {
      "text/plain": [
       "0.078545864927376932"
      ]
     },
     "execution_count": 224,
     "metadata": {},
     "output_type": "execute_result"
    }
   ],
   "source": [
    "# use lasso for parameter choosing\n",
    "\n",
    "y = np.array(df_sum['Win'])\n",
    "X = np.array(df_sum[['FG', 'FGA','3P', '3PA',\n",
    "        'FT', 'FTA',  'ORB', 'DRB', 'TRB', 'AST', 'STL', 'BLK',\n",
    "       'TOV', 'PF', 'PTS']])\n",
    "\n",
    "lasso = Lasso(max_iter = 10000)\n",
    "alphas = np.linspace(0, 10, 11)\n",
    "\n",
    "grid = GridSearchCV(lasso, \n",
    "                    param_grid = {'alpha' : alphas}\n",
    "                    )\n",
    "grid.fit(X,y)\n",
    "y_hat = grid.predict(X)\n",
    "grid.best_score_"
   ]
  },
  {
   "cell_type": "code",
   "execution_count": 236,
   "metadata": {},
   "outputs": [
    {
     "data": {
      "text/plain": [
       "array([ 10,  12,  11,   6,   6, -15,   9,   8,  -6,  12,  -1, -25,  11,\n",
       "        17,   7,   8,   9,  -8,  25, -13,   9,   5, -19,  -8, -19,  -6,\n",
       "         6,   2,   6,  19,  -6,  -7,   5,   1,  -1,  30,  -7,  -3,  -7,\n",
       "         8,  10,   3,   7,  -5,   5,  10,  -2,   7,   7,  12,  -5, -15,\n",
       "       -10, -20,   4,  10, -11,  15, -13,  12,   8,  27,  24,   4,  -1,\n",
       "       -27,  12,  -4,  -3, -17,  11,   6,   5,   4,   3, -14,   6, -19,\n",
       "         9,  13,   6,  14, -11,  -8,   1,  -7,   5,  -8,  -4,  -9, -18,\n",
       "        -9,  12, -10, -10,   6,  -2,  -4,  16, -16,  10, -11, -14, -15,\n",
       "        10,   8,  12,   6,   9,  -3, -14,  -5,  11, -14,   3,  -4,  12,\n",
       "         7,  -3,  -3, -26,   9,   7, -17, -10,   9, -19, -15,   7, -33,\n",
       "        30,   4,   5, -11,  -6,   7, -18,  -5,   4,  -7, -13,   3,   1,\n",
       "        14,  16,  39,  -3,  -2,   3,   1,  23,  -9, -11,  -3,  10,   7,\n",
       "         3,   4,  18,   7,  -7,  16,  -5,  -1, -11,  -5,   6,  -4,  10,\n",
       "        -2, -13, -24,   9,  43,  24,   5,  -5,  29,  36,  17,   7, -21,\n",
       "         8,   4,  13,  45,  30,   6,  -1,  10,   9,   8,   8,  -9,  11,\n",
       "        12,  20,  35,  21,  17,  20,  -3,   2,  15,  11,   7,   1,  21,\n",
       "        -6,   7,  23,   3,  19,   6,   1,   3,  -9,  16,   5,  19, -10,\n",
       "       -17,  15, -10, -22,  16, -17, -27,   3,  -7, -27,   7, -14, -39,\n",
       "         4,   2, -33, -12, -29,  -3,  -3,   3,   8,   8,  -2,   5, -14,\n",
       "        -6, -15,  -6,  -1, -12,   8,   7, -17,   6, -33,  -3,  -6, -39,\n",
       "        -4,  -6, -24, -10,  11, -11,  -4,   9,  -2, -12,  -9,  14,  -9,\n",
       "        27,  16, -21, -40, -16,  -5,  -6,  13, -49,  -9,  11,  20,  35,\n",
       "        21,  17,  20,  -3,  10,  46,   2,  15,  13,  -3,  31,  15,  16,\n",
       "        23,  10,  17,  11,  -4,  -7,   7,   8,   3,  -6, -13,   8,  -4,\n",
       "        16,   9,   1,  10,  11,   3,   6,  23, -22,   5,  -8, -19,  17,\n",
       "         7,   8,   9, -19,   9,  -1,  -8,  15,  32,  11,  -7,  -3,  15,\n",
       "         8,  21,   3,   7,  -4, -10, -18, -27, -15,  -5,  -2, -36, -44,\n",
       "        -3,   8,  12,  23,  30,  14,  29, -18,  22,   2,  20,   4,  -7,\n",
       "        -5,  20,  20,  26,  14,  15,   3, -14,  16,  10,  11,  20,   5,\n",
       "         5,   3,  -2, -22, -26, -11,  11,   7,   8,   9,  -6,  12, -11,\n",
       "       -12,   1, -13, -14, -26,   7,  -8, -19, -12,   5,  15, -13, -11,\n",
       "         5, -19,  22,  -5,   4,  24,  12,  31,  -8,  30,  12,  -9,  19,\n",
       "        15,  -2,  21,   5,  39, -16,   4,   1,   7,   4, -10,  23,  12,\n",
       "        38,   4, -17, -19,  -6,   4,  32,  30,  11,  17,  -8,  11,   6,\n",
       "        11,  20,   1, -16,   6,  12,   8, -12,   8,   4,  -8, -16,   7,\n",
       "         4,  -4, -18,  19, -14,  -6,  16,  -8, -25,  19,  -5, -18, -12,\n",
       "         3,  29,  -3,   2,  11,   7,  -7,  -4,   9,   3,   5,   7,   4,   1], dtype=int64)"
      ]
     },
     "execution_count": 236,
     "metadata": {},
     "output_type": "execute_result"
    }
   ],
   "source": [
    "y"
   ]
  },
  {
   "cell_type": "code",
   "execution_count": 231,
   "metadata": {
    "scrolled": true
   },
   "outputs": [
    {
     "data": {
      "text/plain": [
       "0.16662731003526851"
      ]
     },
     "execution_count": 231,
     "metadata": {},
     "output_type": "execute_result"
    }
   ],
   "source": [
    "from sklearn.linear_model import LinearRegression\n",
    "ls= LinearRegression(normalize = False, fit_intercept= True)\n",
    "ls.fit(X,y)\n",
    "y_hat = ls.predict(X)\n",
    "ls.score(X,y)"
   ]
  },
  {
   "cell_type": "code",
   "execution_count": 237,
   "metadata": {},
   "outputs": [
    {
     "data": {
      "text/plain": [
       "0.66182572614107882"
      ]
     },
     "execution_count": 237,
     "metadata": {},
     "output_type": "execute_result"
    }
   ],
   "source": [
    "from sklearn.linear_model import LogisticRegression\n",
    "lr= LogisticRegression(penalty = 'l1',)\n",
    "lr.fit(X,y>0)\n",
    "y_hat = lr.predict_proba(X)\n",
    "lr.score(X,y>0)"
   ]
  },
  {
   "cell_type": "code",
   "execution_count": 239,
   "metadata": {},
   "outputs": [
    {
     "name": "stderr",
     "output_type": "stream",
     "text": [
      "C:\\Users\\mysel\\Anaconda3\\lib\\site-packages\\ipykernel_launcher.py:4: MatplotlibDeprecationWarning: pyplot.hold is deprecated.\n",
      "    Future behavior will be consistent with the long-time default:\n",
      "    plot commands add elements without first clearing the\n",
      "    Axes and/or Figure.\n",
      "  after removing the cwd from sys.path.\n",
      "C:\\Users\\mysel\\Anaconda3\\lib\\site-packages\\matplotlib\\__init__.py:805: MatplotlibDeprecationWarning: axes.hold is deprecated. Please remove it from your matplotlibrc and/or style files.\n",
      "  mplDeprecation)\n",
      "C:\\Users\\mysel\\Anaconda3\\lib\\site-packages\\matplotlib\\rcsetup.py:155: MatplotlibDeprecationWarning: axes.hold is deprecated, will be removed in 3.0\n",
      "  mplDeprecation)\n"
     ]
    },
    {
     "data": {
      "image/png": "[encoded data removed]",
      "text/plain": [
       "<matplotlib.figure.Figure at 0x1f6dd98b438>"
      ]
     },
     "metadata": {},
     "output_type": "display_data"
    }
   ],
   "source": [
    "#n, bins, patches = plt.hist(y_hat[:,1][df_sum['Pre/Post']=='Pre'], 10, normed=1, facecolor='green', alpha=0.75)\n",
    "\n",
    "n, bins, patches =plt.hist([y_hat[:,1][df_sum['Pre/Post']=='Pre'],y_hat[:,1][df_sum['Pre/Post']=='Post']],30,normed =1)\n",
    "plt.hold(True)\n",
    "(mu, sigma) = norm.fit(y_hat[:,1][df_sum['Pre/Post']=='Pre'])\n",
    "tc = mlab.normpdf( bins, mu, sigma)\n",
    "l = plt.plot(bins, tc, linewidth=2)\n",
    "\n",
    "(mu, sigma) = norm.fit(y_hat[:,1][df_sum['Pre/Post']=='Post'])\n",
    "tc = mlab.normpdf( bins, mu, sigma)\n",
    "l = plt.plot(bins, tc, linewidth=2)\n",
    "#plt.hist(y_hat[:,1][df_sum['Pre/Post']=='Post'])\n",
    "plt.show()"
   ]
  },
  {
   "cell_type": "code",
   "execution_count": 240,
   "metadata": {},
   "outputs": [
    {
     "data": {
      "text/plain": [
       "array([[ 0.        , -0.12699594, -0.1034719 ,  0.08070658,  0.0600686 ,\n",
       "        -0.12092841,  0.01947422,  0.        ,  0.05898385,  0.08797633,\n",
       "         0.14749818,  0.34569354, -0.21704756, -0.20423614,  0.1330171 ]])"
      ]
     },
     "execution_count": 240,
     "metadata": {},
     "output_type": "execute_result"
    }
   ],
   "source": [
    "lr.coef_"
   ]
  },
  {
   "cell_type": "code",
   "execution_count": 241,
   "metadata": {},
   "outputs": [
    {
     "name": "stderr",
     "output_type": "stream",
     "text": [
      "C:\\Users\\mysel\\Anaconda3\\lib\\site-packages\\ipykernel_launcher.py:2: MatplotlibDeprecationWarning: pyplot.hold is deprecated.\n",
      "    Future behavior will be consistent with the long-time default:\n",
      "    plot commands add elements without first clearing the\n",
      "    Axes and/or Figure.\n",
      "  \n",
      "C:\\Users\\mysel\\Anaconda3\\lib\\site-packages\\matplotlib\\__init__.py:805: MatplotlibDeprecationWarning: axes.hold is deprecated. Please remove it from your matplotlibrc and/or style files.\n",
      "  mplDeprecation)\n",
      "C:\\Users\\mysel\\Anaconda3\\lib\\site-packages\\matplotlib\\rcsetup.py:155: MatplotlibDeprecationWarning: axes.hold is deprecated, will be removed in 3.0\n",
      "  mplDeprecation)\n"
     ]
    },
    {
     "data": {
      "image/png": "[encoded data removed]",
      "text/plain": [
       "<matplotlib.figure.Figure at 0x1f6de417a20>"
      ]
     },
     "metadata": {},
     "output_type": "display_data"
    }
   ],
   "source": [
    "plt.plot(y[df_sum['Pre/Post']=='Pre'],y_hat[df_sum['Pre/Post']=='Pre'],'r.')\n",
    "plt.hold(True)\n",
    "plt.plot(y[df_sum['Pre/Post']=='Post'],y_hat[df_sum['Pre/Post']=='Post'],'b.')\n",
    "plt.show()"
   ]
  },
  {
   "cell_type": "code",
   "execution_count": 189,
   "metadata": {},
   "outputs": [
    {
     "data": {
      "text/plain": [
       "Ttest_indResult(statistic=0.92204089111514742, pvalue=0.35697045365258961)"
      ]
     },
     "execution_count": 189,
     "metadata": {},
     "output_type": "execute_result"
    }
   ],
   "source": [
    "ttest_ind(y[df_sum['Pre/Post']=='Pre'],y[df_sum['Pre/Post']=='Post'])"
   ]
  },
  {
   "cell_type": "code",
   "execution_count": 242,
   "metadata": {},
   "outputs": [
    {
     "name": "stderr",
     "output_type": "stream",
     "text": [
      "C:\\Users\\mysel\\Anaconda3\\lib\\site-packages\\ipykernel_launcher.py:2: MatplotlibDeprecationWarning: pyplot.hold is deprecated.\n",
      "    Future behavior will be consistent with the long-time default:\n",
      "    plot commands add elements without first clearing the\n",
      "    Axes and/or Figure.\n",
      "  \n",
      "C:\\Users\\mysel\\Anaconda3\\lib\\site-packages\\matplotlib\\__init__.py:805: MatplotlibDeprecationWarning: axes.hold is deprecated. Please remove it from your matplotlibrc and/or style files.\n",
      "  mplDeprecation)\n",
      "C:\\Users\\mysel\\Anaconda3\\lib\\site-packages\\matplotlib\\rcsetup.py:155: MatplotlibDeprecationWarning: axes.hold is deprecated, will be removed in 3.0\n",
      "  mplDeprecation)\n"
     ]
    },
    {
     "data": {
      "image/png": "[encoded data removed]",
      "text/plain": [
       "<matplotlib.figure.Figure at 0x1f6de417f98>"
      ]
     },
     "metadata": {},
     "output_type": "display_data"
    }
   ],
   "source": [
    "plt.plot(df_sum['Win'][df_sum['Pre/Post']=='Pre'],df_sum['ORtg'][df_sum['Pre/Post']=='Pre'],'r.')\n",
    "plt.hold(True)\n",
    "plt.plot(df_sum['Win'][df_sum['Pre/Post']=='Post'],df_sum['ORtg'][df_sum['Pre/Post']=='Post'],'b.')\n",
    "plt.show()"
   ]
  }
 ],
 "metadata": {
  "kernelspec": {
   "display_name": "Python 3",
   "language": "python",
   "name": "python3"
  },
  "language_info": {
   "codemirror_mode": {
    "name": "ipython",
    "version": 3
   },
   "file_extension": ".py",
   "mimetype": "text/x-python",
   "name": "python",
   "nbconvert_exporter": "python",
   "pygments_lexer": "ipython3",
   "version": "3.6.3"
  }
 },
 "nbformat": 4,
 "nbformat_minor": 2
}
